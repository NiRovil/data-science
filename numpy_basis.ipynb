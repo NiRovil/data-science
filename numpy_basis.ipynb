{
 "cells": [
  {
   "cell_type": "code",
   "execution_count": null,
   "metadata": {},
   "outputs": [],
   "source": [
    "import numpy as np"
   ]
  },
  {
   "cell_type": "code",
   "execution_count": null,
   "metadata": {},
   "outputs": [],
   "source": [
    "#criando uma matriz unidimensional\n",
    "\n",
    "mt = np.array([12, 34, 26, 18, 10])\n",
    "print(mt)\n",
    "print(type(mt))"
   ]
  },
  {
   "cell_type": "code",
   "execution_count": null,
   "metadata": {},
   "outputs": [],
   "source": [
    "#criando arrays de tipos específicos\n",
    "\n",
    "mtfloat = np.array([1, 2, 3], dtype= np.float64)\n",
    "print(mtfloat)\n",
    "print(type(mtfloat))\n",
    "\n",
    "mtint = np.array([1, 2, 3], dtype= np.int32)\n",
    "print(mtint)\n",
    "print(type(mtint))"
   ]
  },
  {
   "cell_type": "code",
   "execution_count": null,
   "metadata": {},
   "outputs": [],
   "source": [
    "#valores aleatorios\n",
    "\n",
    "ale = np.random.random((5))\n",
    "print(ale)\n",
    "\n",
    "ale1 = np.random.randn((5))\n",
    "print(ale1)\n",
    "\n",
    "ale2 = (10*np.random.random((3,4)))\n",
    "print(ale2)"
   ]
  },
  {
   "cell_type": "code",
   "execution_count": null,
   "metadata": {},
   "outputs": [],
   "source": [
    "#uso de semente\n",
    "\n",
    "gnr = np.random.default_rng(1)\n",
    "ale3 = gnr.random(3)\n",
    "print(ale3)\n",
    "\n",
    "#gerar inteiros\n",
    "ale4 = gnr.integers(10, size=(3, 4))\n",
    "print(ale4)"
   ]
  },
  {
   "cell_type": "code",
   "execution_count": null,
   "metadata": {},
   "outputs": [],
   "source": [
    "#removendo repetições\n",
    "\n",
    "rmv = np.array([11, 12, 13, 14, 15, 16, 17, 12, 13, 11, 18, 19, 20])\n",
    "rmv = np.unique(rmv)\n",
    "\n",
    "print(rmv)"
   ]
  },
  {
   "cell_type": "code",
   "execution_count": null,
   "metadata": {},
   "outputs": [],
   "source": [
    "#funcoes especificas\n",
    "\n",
    "k = np.array([[17, 22, 43], [27, 25, 14], [15, 24, 32]])\n",
    "print(k[0][2])\n",
    "print(k.shape)"
   ]
  },
  {
   "cell_type": "code",
   "execution_count": null,
   "metadata": {},
   "outputs": [],
   "source": [
    "#funcoes matematicas\n",
    "\n",
    "#maior valor da matriz\n",
    "print(k.max())\n",
    "\n",
    "#menor valor da matriz\n",
    "print(k.min())\n",
    "\n",
    "#soma dos valores da matriz\n",
    "print(k.sum())\n",
    "\n",
    "#valor medio dos valores da matriz\n",
    "print(k.mean())\n",
    "\n",
    "#valor do desvio padrao (standart deviation) dos valores da matriz\n",
    "print(k.std())"
   ]
  },
  {
   "cell_type": "code",
   "execution_count": null,
   "metadata": {},
   "outputs": [],
   "source": [
    "#funcoes universais\n",
    "\n",
    "k1 = np.array([1, 4, 9, 16, 25, 36])\n",
    "\n",
    "#raiz de todos os elementos\n",
    "print(np.sqrt(k1))\n",
    "\n",
    "#valor exponencial de todos os elementos\n",
    "print(np.exp(k1))"
   ]
  },
  {
   "cell_type": "code",
   "execution_count": null,
   "metadata": {},
   "outputs": [],
   "source": [
    "#adição e multiplicação de matrizes\n",
    "\n",
    "n = np.array([[1, 2], [3,4]])\n",
    "o = np.array([[1, 1], [1, 1]])\n",
    "\n",
    "res1 = n + o\n",
    "print(res1)\n",
    "\n",
    "res2 = n * o\n",
    "print(res2)\n",
    "\n",
    "p = np.array([[1, 2], [3, 4], [5, 6]])\n",
    "q = np.array([[2,1]])\n",
    "\n",
    "print(p+q)"
   ]
  },
  {
   "cell_type": "code",
   "execution_count": null,
   "metadata": {},
   "outputs": [],
   "source": [
    "#transposição\n",
    "\n",
    "f = np.arange(15).reshape((3, 5))\n",
    "print(f)\n",
    "\n",
    "s = f.T\n",
    "print(s)"
   ]
  },
  {
   "cell_type": "code",
   "execution_count": null,
   "metadata": {},
   "outputs": [],
   "source": [
    "#outra forma de transposição\n",
    "\n",
    "r = np.arange(15).reshape((3, 5))\n",
    "print(r)\n",
    "\n",
    "s = r.transpose((1, 0))\n",
    "print(s)"
   ]
  },
  {
   "cell_type": "code",
   "execution_count": null,
   "metadata": {},
   "outputs": [],
   "source": [
    "#expressões lógicas\n",
    "\n",
    "#matriz de valores aleatórios positivos e negativos\n",
    "v = np.random.randn(4, 4)\n",
    "print(v)\n",
    "\n",
    "#matriz de valores booleanos\n",
    "x = (v > 0)\n",
    "print(x)\n",
    "\n",
    "#matriz com valores -1 e 1 baseados em X\n",
    "z = np.where(x > 0, 1, -1)\n",
    "print(z)"
   ]
  }
 ],
 "metadata": {
  "kernelspec": {
   "display_name": "base",
   "language": "python",
   "name": "python3"
  },
  "language_info": {
   "codemirror_mode": {
    "name": "ipython",
    "version": 3
   },
   "file_extension": ".py",
   "mimetype": "text/x-python",
   "name": "python",
   "nbconvert_exporter": "python",
   "pygments_lexer": "ipython3",
   "version": "3.11.4"
  },
  "orig_nbformat": 4
 },
 "nbformat": 4,
 "nbformat_minor": 2
}
